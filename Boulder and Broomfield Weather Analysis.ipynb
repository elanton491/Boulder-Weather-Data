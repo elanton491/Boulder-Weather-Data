{
 "cells": [
  {
   "cell_type": "code",
   "execution_count": 1,
   "id": "a7ab87e0",
   "metadata": {},
   "outputs": [],
   "source": [
    "import numpy as np\n",
    "np.set_printoptions(suppress=True)\n",
    "import pandas as pd\n",
    "\n",
    "idx = pd.IndexSlice\n",
    "\n",
    "pd.options.display.max_columns = 100"
   ]
  },
  {
   "cell_type": "markdown",
   "id": "cd66ed92",
   "metadata": {},
   "source": [
    "Load the Boulder and Broomfield weather data from Week 1."
   ]
  },
  {
   "cell_type": "code",
   "execution_count": 6,
   "id": "15a2015b",
   "metadata": {
    "scrolled": true
   },
   "outputs": [
    {
     "data": {
      "text/html": [
       "<div>\n",
       "<style scoped>\n",
       "    .dataframe tbody tr th:only-of-type {\n",
       "        vertical-align: middle;\n",
       "    }\n",
       "\n",
       "    .dataframe tbody tr th {\n",
       "        vertical-align: top;\n",
       "    }\n",
       "\n",
       "    .dataframe thead th {\n",
       "        text-align: right;\n",
       "    }\n",
       "</style>\n",
       "<table border=\"1\" class=\"dataframe\">\n",
       "  <thead>\n",
       "    <tr style=\"text-align: right;\">\n",
       "      <th></th>\n",
       "      <th>2010-01-01</th>\n",
       "      <th>30.4</th>\n",
       "      <th>24.8</th>\n",
       "      <th>39.2</th>\n",
       "      <th>9.9</th>\n",
       "      <th>828.5</th>\n",
       "      <th>46.9</th>\n",
       "      <th>6.1</th>\n",
       "      <th>11.1</th>\n",
       "      <th>Unnamed: 9</th>\n",
       "      <th>0.0</th>\n",
       "    </tr>\n",
       "  </thead>\n",
       "  <tbody>\n",
       "    <tr>\n",
       "      <th>0</th>\n",
       "      <td>2010-01-02</td>\n",
       "      <td>32.3</td>\n",
       "      <td>21.2</td>\n",
       "      <td>44.6</td>\n",
       "      <td>19.6</td>\n",
       "      <td>825.1</td>\n",
       "      <td>29.4</td>\n",
       "      <td>5.5</td>\n",
       "      <td>12.0</td>\n",
       "      <td>NaN</td>\n",
       "      <td>0.0</td>\n",
       "    </tr>\n",
       "    <tr>\n",
       "      <th>1</th>\n",
       "      <td>2010-01-03</td>\n",
       "      <td>33.9</td>\n",
       "      <td>28.4</td>\n",
       "      <td>39.2</td>\n",
       "      <td>20.4</td>\n",
       "      <td>830.1</td>\n",
       "      <td>27.8</td>\n",
       "      <td>5.2</td>\n",
       "      <td>12.0</td>\n",
       "      <td>20.0</td>\n",
       "      <td>NaN</td>\n",
       "    </tr>\n",
       "    <tr>\n",
       "      <th>2</th>\n",
       "      <td>2010-01-04</td>\n",
       "      <td>30.7</td>\n",
       "      <td>19.4</td>\n",
       "      <td>41.0</td>\n",
       "      <td>19.3</td>\n",
       "      <td>831.7</td>\n",
       "      <td>36.1</td>\n",
       "      <td>2.7</td>\n",
       "      <td>6.0</td>\n",
       "      <td>NaN</td>\n",
       "      <td>0.0</td>\n",
       "    </tr>\n",
       "    <tr>\n",
       "      <th>3</th>\n",
       "      <td>2010-01-05</td>\n",
       "      <td>39.9</td>\n",
       "      <td>28.4</td>\n",
       "      <td>48.2</td>\n",
       "      <td>17.6</td>\n",
       "      <td>825.5</td>\n",
       "      <td>43.1</td>\n",
       "      <td>9.3</td>\n",
       "      <td>25.1</td>\n",
       "      <td>33.0</td>\n",
       "      <td>0.0</td>\n",
       "    </tr>\n",
       "    <tr>\n",
       "      <th>4</th>\n",
       "      <td>2010-01-06</td>\n",
       "      <td>28.0</td>\n",
       "      <td>8.6</td>\n",
       "      <td>46.4</td>\n",
       "      <td>15.6</td>\n",
       "      <td>825.2</td>\n",
       "      <td>13.6</td>\n",
       "      <td>9.9</td>\n",
       "      <td>24.1</td>\n",
       "      <td>28.0</td>\n",
       "      <td>NaN</td>\n",
       "    </tr>\n",
       "  </tbody>\n",
       "</table>\n",
       "</div>"
      ],
      "text/plain": [
       "   2010-01-01  30.4  24.8  39.2   9.9  828.5  46.9  6.1  11.1  Unnamed: 9  0.0\n",
       "0  2010-01-02  32.3  21.2  44.6  19.6  825.1  29.4  5.5  12.0         NaN  0.0\n",
       "1  2010-01-03  33.9  28.4  39.2  20.4  830.1  27.8  5.2  12.0        20.0  NaN\n",
       "2  2010-01-04  30.7  19.4  41.0  19.3  831.7  36.1  2.7   6.0         NaN  0.0\n",
       "3  2010-01-05  39.9  28.4  48.2  17.6  825.5  43.1  9.3  25.1        33.0  0.0\n",
       "4  2010-01-06  28.0   8.6  46.4  15.6  825.2  13.6  9.9  24.1        28.0  NaN"
      ]
     },
     "execution_count": 6,
     "metadata": {},
     "output_type": "execute_result"
    }
   ],
   "source": [
    "boulder_df = pd.read_csv('boulder_weather.csv',\n",
    "                         header=1,\n",
    "                         sep='|'\n",
    "                        )\n",
    "boulder_df.head()"
   ]
  },
  {
   "cell_type": "code",
   "execution_count": 7,
   "id": "affa8d46",
   "metadata": {},
   "outputs": [],
   "source": [
    "%matplotlib inline\n",
    "\n",
    "import matplotlib.pyplot as plt"
   ]
  },
  {
   "cell_type": "code",
   "execution_count": 11,
   "id": "f495cc17",
   "metadata": {},
   "outputs": [
    {
     "data": {
      "text/html": [
       "<div>\n",
       "<style scoped>\n",
       "    .dataframe tbody tr th:only-of-type {\n",
       "        vertical-align: middle;\n",
       "    }\n",
       "\n",
       "    .dataframe tbody tr th {\n",
       "        vertical-align: top;\n",
       "    }\n",
       "\n",
       "    .dataframe thead th {\n",
       "        text-align: right;\n",
       "    }\n",
       "</style>\n",
       "<table border=\"1\" class=\"dataframe\">\n",
       "  <thead>\n",
       "    <tr style=\"text-align: right;\">\n",
       "      <th></th>\n",
       "      <th>2010-02-01</th>\n",
       "      <th>46.8</th>\n",
       "      <th>44.6</th>\n",
       "      <th>50.0</th>\n",
       "      <th>11.3</th>\n",
       "      <th>Unnamed: 5</th>\n",
       "      <th>10.0</th>\n",
       "      <th>11.9</th>\n",
       "      <th>15.9</th>\n",
       "      <th>25.1</th>\n",
       "      <th>0.0</th>\n",
       "    </tr>\n",
       "  </thead>\n",
       "  <tbody>\n",
       "    <tr>\n",
       "      <th>0</th>\n",
       "      <td>2010-02-02</td>\n",
       "      <td>36.9</td>\n",
       "      <td>26.6</td>\n",
       "      <td>46.4</td>\n",
       "      <td>14.6</td>\n",
       "      <td>NaN</td>\n",
       "      <td>10.0</td>\n",
       "      <td>2.5</td>\n",
       "      <td>9.9</td>\n",
       "      <td>20.0</td>\n",
       "      <td>0.0</td>\n",
       "    </tr>\n",
       "    <tr>\n",
       "      <th>1</th>\n",
       "      <td>2010-02-03</td>\n",
       "      <td>38.3</td>\n",
       "      <td>30.2</td>\n",
       "      <td>48.2</td>\n",
       "      <td>18.9</td>\n",
       "      <td>NaN</td>\n",
       "      <td>10.0</td>\n",
       "      <td>1.2</td>\n",
       "      <td>4.1</td>\n",
       "      <td>NaN</td>\n",
       "      <td>0.0</td>\n",
       "    </tr>\n",
       "    <tr>\n",
       "      <th>2</th>\n",
       "      <td>2010-02-04</td>\n",
       "      <td>41.7</td>\n",
       "      <td>33.8</td>\n",
       "      <td>51.8</td>\n",
       "      <td>26.8</td>\n",
       "      <td>NaN</td>\n",
       "      <td>8.9</td>\n",
       "      <td>3.7</td>\n",
       "      <td>26.0</td>\n",
       "      <td>33.0</td>\n",
       "      <td>NaN</td>\n",
       "    </tr>\n",
       "    <tr>\n",
       "      <th>3</th>\n",
       "      <td>2010-02-05</td>\n",
       "      <td>41.7</td>\n",
       "      <td>32.0</td>\n",
       "      <td>50.0</td>\n",
       "      <td>13.9</td>\n",
       "      <td>NaN</td>\n",
       "      <td>10.0</td>\n",
       "      <td>5.3</td>\n",
       "      <td>23.9</td>\n",
       "      <td>30.9</td>\n",
       "      <td>0.0</td>\n",
       "    </tr>\n",
       "    <tr>\n",
       "      <th>4</th>\n",
       "      <td>2010-02-06</td>\n",
       "      <td>35.5</td>\n",
       "      <td>30.2</td>\n",
       "      <td>44.6</td>\n",
       "      <td>27.6</td>\n",
       "      <td>NaN</td>\n",
       "      <td>7.5</td>\n",
       "      <td>1.9</td>\n",
       "      <td>8.9</td>\n",
       "      <td>NaN</td>\n",
       "      <td>0.0</td>\n",
       "    </tr>\n",
       "  </tbody>\n",
       "</table>\n",
       "</div>"
      ],
      "text/plain": [
       "   2010-02-01  46.8  44.6  50.0  11.3  Unnamed: 5  10.0  11.9  15.9  25.1  0.0\n",
       "0  2010-02-02  36.9  26.6  46.4  14.6         NaN  10.0   2.5   9.9  20.0  0.0\n",
       "1  2010-02-03  38.3  30.2  48.2  18.9         NaN  10.0   1.2   4.1   NaN  0.0\n",
       "2  2010-02-04  41.7  33.8  51.8  26.8         NaN   8.9   3.7  26.0  33.0  NaN\n",
       "3  2010-02-05  41.7  32.0  50.0  13.9         NaN  10.0   5.3  23.9  30.9  0.0\n",
       "4  2010-02-06  35.5  30.2  44.6  27.6         NaN   7.5   1.9   8.9   NaN  0.0"
      ]
     },
     "execution_count": 11,
     "metadata": {},
     "output_type": "execute_result"
    }
   ],
   "source": [
    "broomfield_df = pd.read_csv('broomfield_weather.csv',\n",
    "                         header=1,\n",
    "                         sep='|'\n",
    "                        )\n",
    "broomfield_df.head()"
   ]
  },
  {
   "cell_type": "code",
   "execution_count": 12,
   "id": "07b26e75",
   "metadata": {},
   "outputs": [
    {
     "data": {
      "image/png": "[encoded data removed]",
      "text/plain": [
       "<Figure size 432x288 with 1 Axes>"
      ]
     },
     "metadata": {
      "needs_background": "light"
     },
     "output_type": "display_data"
    }
   ],
   "source": [
    "f, ax = plt.subplots()"
   ]
  },
  {
   "cell_type": "markdown",
   "id": "73ca4f15",
   "metadata": {},
   "source": [
    "We can call the `f` Figure object and it will return the (now-empty) visualization."
   ]
  },
  {
   "cell_type": "code",
   "execution_count": 13,
   "id": "9bd647f9",
   "metadata": {},
   "outputs": [
    {
     "data": {
      "image/png": "[encoded data removed]",
      "text/plain": [
       "<Figure size 432x288 with 1 Axes>"
      ]
     },
     "execution_count": 13,
     "metadata": {},
     "output_type": "execute_result"
    }
   ],
   "source": [
    "f"
   ]
  },
  {
   "cell_type": "code",
   "execution_count": 14,
   "id": "98382d4e",
   "metadata": {},
   "outputs": [
    {
     "data": {
      "text/plain": [
       "[<AxesSubplot:>]"
      ]
     },
     "execution_count": 14,
     "metadata": {},
     "output_type": "execute_result"
    }
   ],
   "source": [
    "f.get_axes()"
   ]
  },
  {
   "cell_type": "code",
   "execution_count": 15,
   "id": "1f618e04",
   "metadata": {},
   "outputs": [
    {
     "data": {
      "text/plain": [
       "[<matplotlib.spines.Spine at 0x7fc603b74520>,\n",
       " <matplotlib.spines.Spine at 0x7fc603b749d0>,\n",
       " <matplotlib.spines.Spine at 0x7fc603b268e0>,\n",
       " <matplotlib.spines.Spine at 0x7fc603b264c0>,\n",
       " <matplotlib.axis.XAxis at 0x7fc603b747c0>,\n",
       " <matplotlib.axis.YAxis at 0x7fc603786910>,\n",
       " Text(0.5, 1.0, ''),\n",
       " Text(0.0, 1.0, ''),\n",
       " Text(1.0, 1.0, ''),\n",
       " <matplotlib.patches.Rectangle at 0x7fc603bedac0>]"
      ]
     },
     "execution_count": 15,
     "metadata": {},
     "output_type": "execute_result"
    }
   ],
   "source": [
    "ax.get_children()"
   ]
  },
  {
   "cell_type": "markdown",
   "id": "a7b0c967",
   "metadata": {},
   "source": [
    "The rectangle object is a box that has a height and width of 1 and starts at the origin (0,0)."
   ]
  },
  {
   "cell_type": "code",
   "execution_count": 16,
   "id": "ef8b7564",
   "metadata": {},
   "outputs": [
    {
     "data": {
      "text/plain": [
       "(1.0, 1.0, (0.0, 0.0))"
      ]
     },
     "execution_count": 16,
     "metadata": {},
     "output_type": "execute_result"
    }
   ],
   "source": [
    "rect = ax.get_children()[-1]\n",
    "rect.get_height(), rect.get_width(), rect.get_xy()"
   ]
  },
  {
   "cell_type": "markdown",
   "id": "1b7f8f0c",
   "metadata": {},
   "source": [
    "We could mutate this Rectangle: color it red and give it a new width and height."
   ]
  },
  {
   "cell_type": "code",
   "execution_count": 17,
   "id": "84c7bdd5",
   "metadata": {},
   "outputs": [],
   "source": [
    "rect.set_facecolor('red')\n",
    "rect.set_height(.5)\n",
    "rect.set_width(.5)"
   ]
  },
  {
   "cell_type": "markdown",
   "id": "c96ad346",
   "metadata": {},
   "source": [
    "If we check the `f` object again, we can see this rectangle within the axes object within the figure object is now red and has half the height and width as before."
   ]
  },
  {
   "cell_type": "code",
   "execution_count": 18,
   "id": "3da7f94b",
   "metadata": {},
   "outputs": [
    {
     "data": {
      "image/png": "[encoded data removed]",
      "text/plain": [
       "<Figure size 432x288 with 1 Axes>"
      ]
     },
     "execution_count": 18,
     "metadata": {},
     "output_type": "execute_result"
    }
   ],
   "source": [
    "f"
   ]
  },
  {
   "cell_type": "code",
   "execution_count": 19,
   "id": "de339229",
   "metadata": {},
   "outputs": [],
   "source": [
    "rect.set_edgecolor('green')\n",
    "rect.set_linewidth(10)\n",
    "rect.set_linestyle('--')"
   ]
  },
  {
   "cell_type": "code",
   "execution_count": 20,
   "id": "4062ff41",
   "metadata": {},
   "outputs": [
    {
     "data": {
      "image/png": "[encoded data removed]",
      "text/plain": [
       "<Figure size 432x288 with 1 Axes>"
      ]
     },
     "execution_count": 20,
     "metadata": {},
     "output_type": "execute_result"
    }
   ],
   "source": [
    "f"
   ]
  },
  {
   "cell_type": "code",
   "execution_count": 21,
   "id": "66d2cb11",
   "metadata": {},
   "outputs": [
    {
     "ename": "KeyError",
     "evalue": "'TEMP'",
     "output_type": "error",
     "traceback": [
      "\u001b[0;31m---------------------------------------------------------------------------\u001b[0m",
      "\u001b[0;31mKeyError\u001b[0m                                  Traceback (most recent call last)",
      "File \u001b[0;32m~/opt/anaconda3/lib/python3.8/site-packages/pandas/core/indexes/base.py:3621\u001b[0m, in \u001b[0;36mIndex.get_loc\u001b[0;34m(self, key, method, tolerance)\u001b[0m\n\u001b[1;32m   3620\u001b[0m \u001b[38;5;28;01mtry\u001b[39;00m:\n\u001b[0;32m-> 3621\u001b[0m     \u001b[38;5;28;01mreturn\u001b[39;00m \u001b[38;5;28;43mself\u001b[39;49m\u001b[38;5;241;43m.\u001b[39;49m\u001b[43m_engine\u001b[49m\u001b[38;5;241;43m.\u001b[39;49m\u001b[43mget_loc\u001b[49m\u001b[43m(\u001b[49m\u001b[43mcasted_key\u001b[49m\u001b[43m)\u001b[49m\n\u001b[1;32m   3622\u001b[0m \u001b[38;5;28;01mexcept\u001b[39;00m \u001b[38;5;167;01mKeyError\u001b[39;00m \u001b[38;5;28;01mas\u001b[39;00m err:\n",
      "File \u001b[0;32m~/opt/anaconda3/lib/python3.8/site-packages/pandas/_libs/index.pyx:136\u001b[0m, in \u001b[0;36mpandas._libs.index.IndexEngine.get_loc\u001b[0;34m()\u001b[0m\n",
      "File \u001b[0;32m~/opt/anaconda3/lib/python3.8/site-packages/pandas/_libs/index.pyx:163\u001b[0m, in \u001b[0;36mpandas._libs.index.IndexEngine.get_loc\u001b[0;34m()\u001b[0m\n",
      "File \u001b[0;32mpandas/_libs/hashtable_class_helper.pxi:5198\u001b[0m, in \u001b[0;36mpandas._libs.hashtable.PyObjectHashTable.get_item\u001b[0;34m()\u001b[0m\n",
      "File \u001b[0;32mpandas/_libs/hashtable_class_helper.pxi:5206\u001b[0m, in \u001b[0;36mpandas._libs.hashtable.PyObjectHashTable.get_item\u001b[0;34m()\u001b[0m\n",
      "\u001b[0;31mKeyError\u001b[0m: 'TEMP'",
      "\nThe above exception was the direct cause of the following exception:\n",
      "\u001b[0;31mKeyError\u001b[0m                                  Traceback (most recent call last)",
      "Input \u001b[0;32mIn [21]\u001b[0m, in \u001b[0;36m<cell line: 1>\u001b[0;34m()\u001b[0m\n\u001b[0;32m----> 1\u001b[0m boulder_temps \u001b[38;5;241m=\u001b[39m \u001b[43mboulder_df\u001b[49m\u001b[43m[\u001b[49m\u001b[38;5;124;43m'\u001b[39;49m\u001b[38;5;124;43mTEMP\u001b[39;49m\u001b[38;5;124;43m'\u001b[39;49m\u001b[43m]\u001b[49m\u001b[38;5;241m.\u001b[39mvalues\n\u001b[1;32m      2\u001b[0m boulder_temps\n",
      "File \u001b[0;32m~/opt/anaconda3/lib/python3.8/site-packages/pandas/core/frame.py:3505\u001b[0m, in \u001b[0;36mDataFrame.__getitem__\u001b[0;34m(self, key)\u001b[0m\n\u001b[1;32m   3503\u001b[0m \u001b[38;5;28;01mif\u001b[39;00m \u001b[38;5;28mself\u001b[39m\u001b[38;5;241m.\u001b[39mcolumns\u001b[38;5;241m.\u001b[39mnlevels \u001b[38;5;241m>\u001b[39m \u001b[38;5;241m1\u001b[39m:\n\u001b[1;32m   3504\u001b[0m     \u001b[38;5;28;01mreturn\u001b[39;00m \u001b[38;5;28mself\u001b[39m\u001b[38;5;241m.\u001b[39m_getitem_multilevel(key)\n\u001b[0;32m-> 3505\u001b[0m indexer \u001b[38;5;241m=\u001b[39m \u001b[38;5;28;43mself\u001b[39;49m\u001b[38;5;241;43m.\u001b[39;49m\u001b[43mcolumns\u001b[49m\u001b[38;5;241;43m.\u001b[39;49m\u001b[43mget_loc\u001b[49m\u001b[43m(\u001b[49m\u001b[43mkey\u001b[49m\u001b[43m)\u001b[49m\n\u001b[1;32m   3506\u001b[0m \u001b[38;5;28;01mif\u001b[39;00m is_integer(indexer):\n\u001b[1;32m   3507\u001b[0m     indexer \u001b[38;5;241m=\u001b[39m [indexer]\n",
      "File \u001b[0;32m~/opt/anaconda3/lib/python3.8/site-packages/pandas/core/indexes/base.py:3623\u001b[0m, in \u001b[0;36mIndex.get_loc\u001b[0;34m(self, key, method, tolerance)\u001b[0m\n\u001b[1;32m   3621\u001b[0m     \u001b[38;5;28;01mreturn\u001b[39;00m \u001b[38;5;28mself\u001b[39m\u001b[38;5;241m.\u001b[39m_engine\u001b[38;5;241m.\u001b[39mget_loc(casted_key)\n\u001b[1;32m   3622\u001b[0m \u001b[38;5;28;01mexcept\u001b[39;00m \u001b[38;5;167;01mKeyError\u001b[39;00m \u001b[38;5;28;01mas\u001b[39;00m err:\n\u001b[0;32m-> 3623\u001b[0m     \u001b[38;5;28;01mraise\u001b[39;00m \u001b[38;5;167;01mKeyError\u001b[39;00m(key) \u001b[38;5;28;01mfrom\u001b[39;00m \u001b[38;5;21;01merr\u001b[39;00m\n\u001b[1;32m   3624\u001b[0m \u001b[38;5;28;01mexcept\u001b[39;00m \u001b[38;5;167;01mTypeError\u001b[39;00m:\n\u001b[1;32m   3625\u001b[0m     \u001b[38;5;66;03m# If we have a listlike key, _check_indexing_error will raise\u001b[39;00m\n\u001b[1;32m   3626\u001b[0m     \u001b[38;5;66;03m#  InvalidIndexError. Otherwise we fall through and re-raise\u001b[39;00m\n\u001b[1;32m   3627\u001b[0m     \u001b[38;5;66;03m#  the TypeError.\u001b[39;00m\n\u001b[1;32m   3628\u001b[0m     \u001b[38;5;28mself\u001b[39m\u001b[38;5;241m.\u001b[39m_check_indexing_error(key)\n",
      "\u001b[0;31mKeyError\u001b[0m: 'TEMP'"
     ]
    }
   ],
   "source": [
    "boulder_temps = boulder_df['TEMP'].values\n",
    "boulder_temps"
   ]
  },
  {
   "cell_type": "markdown",
   "id": "2fbce24b",
   "metadata": {},
   "source": [
    "Now make an empty figure and subplot."
   ]
  },
  {
   "cell_type": "code",
   "execution_count": null,
   "id": "e7ae00f0",
   "metadata": {},
   "outputs": [],
   "source": [
    "f,ax = plt.subplots()"
   ]
  },
  {
   "cell_type": "code",
   "execution_count": null,
   "id": "915f99cf",
   "metadata": {},
   "outputs": [],
   "source": [
    "ax.hist(boulder_temps)"
   ]
  },
  {
   "cell_type": "markdown",
   "id": "623e3b6d",
   "metadata": {},
   "source": [
    "But where's the plot? Check `f`."
   ]
  },
  {
   "cell_type": "code",
   "execution_count": null,
   "id": "268a1c79",
   "metadata": {},
   "outputs": [],
   "source": [
    "f"
   ]
  },
  {
   "cell_type": "code",
   "execution_count": null,
   "id": "cb0016c6",
   "metadata": {},
   "outputs": [],
   "source": [
    "f,ax = plt.subplots()\n",
    "ax.hist(boulder_temps); # Silence the bin counts and boundaries"
   ]
  },
  {
   "cell_type": "code",
   "execution_count": 22,
   "id": "331a00f9",
   "metadata": {},
   "outputs": [
    {
     "ename": "NameError",
     "evalue": "name 'boulder_temps' is not defined",
     "output_type": "error",
     "traceback": [
      "\u001b[0;31m---------------------------------------------------------------------------\u001b[0m",
      "\u001b[0;31mNameError\u001b[0m                                 Traceback (most recent call last)",
      "Input \u001b[0;32mIn [22]\u001b[0m, in \u001b[0;36m<cell line: 2>\u001b[0;34m()\u001b[0m\n\u001b[1;32m      1\u001b[0m f,ax \u001b[38;5;241m=\u001b[39m plt\u001b[38;5;241m.\u001b[39msubplots()\n\u001b[0;32m----> 2\u001b[0m ax\u001b[38;5;241m.\u001b[39mhist(\u001b[43mboulder_temps\u001b[49m,bins\u001b[38;5;241m=\u001b[39m\u001b[38;5;241m5\u001b[39m)\n",
      "\u001b[0;31mNameError\u001b[0m: name 'boulder_temps' is not defined"
     ]
    },
    {
     "data": {
      "image/png": "[encoded data removed]",
      "text/plain": [
       "<Figure size 432x288 with 1 Axes>"
      ]
     },
     "metadata": {
      "needs_background": "light"
     },
     "output_type": "display_data"
    }
   ],
   "source": [
    "f,ax = plt.subplots()\n",
    "ax.hist(boulder_temps,bins=5);"
   ]
  },
  {
   "cell_type": "code",
   "execution_count": 23,
   "id": "c13cb942",
   "metadata": {},
   "outputs": [
    {
     "ename": "NameError",
     "evalue": "name 'boulder_temps' is not defined",
     "output_type": "error",
     "traceback": [
      "\u001b[0;31m---------------------------------------------------------------------------\u001b[0m",
      "\u001b[0;31mNameError\u001b[0m                                 Traceback (most recent call last)",
      "Input \u001b[0;32mIn [23]\u001b[0m, in \u001b[0;36m<cell line: 2>\u001b[0;34m()\u001b[0m\n\u001b[1;32m      1\u001b[0m f,ax \u001b[38;5;241m=\u001b[39m plt\u001b[38;5;241m.\u001b[39msubplots()\n\u001b[0;32m----> 2\u001b[0m ax\u001b[38;5;241m.\u001b[39mhist(\u001b[43mboulder_temps\u001b[49m,bins\u001b[38;5;241m=\u001b[39m\u001b[38;5;241m50\u001b[39m)\n",
      "\u001b[0;31mNameError\u001b[0m: name 'boulder_temps' is not defined"
     ]
    },
    {
     "data": {
      "image/png": "[encoded data removed]",
      "text/plain": [
       "<Figure size 432x288 with 1 Axes>"
      ]
     },
     "metadata": {
      "needs_background": "light"
     },
     "output_type": "display_data"
    }
   ],
   "source": [
    "f,ax = plt.subplots()\n",
    "ax.hist(boulder_temps,bins=50);"
   ]
  },
  {
   "cell_type": "markdown",
   "id": "b297ff68",
   "metadata": {},
   "source": [
    "Try a really big number of bins. The bimodal distribution is perhaps clearer here, but this probably more bins than intended for a histogram."
   ]
  },
  {
   "cell_type": "code",
   "execution_count": 24,
   "id": "3bb54da5",
   "metadata": {},
   "outputs": [
    {
     "ename": "NameError",
     "evalue": "name 'boulder_temps' is not defined",
     "output_type": "error",
     "traceback": [
      "\u001b[0;31m---------------------------------------------------------------------------\u001b[0m",
      "\u001b[0;31mNameError\u001b[0m                                 Traceback (most recent call last)",
      "Input \u001b[0;32mIn [24]\u001b[0m, in \u001b[0;36m<cell line: 2>\u001b[0;34m()\u001b[0m\n\u001b[1;32m      1\u001b[0m f,ax \u001b[38;5;241m=\u001b[39m plt\u001b[38;5;241m.\u001b[39msubplots()\n\u001b[0;32m----> 2\u001b[0m ax\u001b[38;5;241m.\u001b[39mhist(\u001b[43mboulder_temps\u001b[49m,bins\u001b[38;5;241m=\u001b[39m\u001b[38;5;241m500\u001b[39m)\n\u001b[1;32m      4\u001b[0m ax\u001b[38;5;241m.\u001b[39mset_xlabel(\u001b[38;5;124m'\u001b[39m\u001b[38;5;124mTemperature (F)\u001b[39m\u001b[38;5;124m'\u001b[39m)\n\u001b[1;32m      5\u001b[0m ax\u001b[38;5;241m.\u001b[39mset_ylabel(\u001b[38;5;124m'\u001b[39m\u001b[38;5;124mCount (Days)\u001b[39m\u001b[38;5;124m'\u001b[39m)\n",
      "\u001b[0;31mNameError\u001b[0m: name 'boulder_temps' is not defined"
     ]
    },
    {
     "data": {
      "image/png": "[encoded data removed]",
      "text/plain": [
       "<Figure size 432x288 with 1 Axes>"
      ]
     },
     "metadata": {
      "needs_background": "light"
     },
     "output_type": "display_data"
    }
   ],
   "source": [
    "f,ax = plt.subplots()\n",
    "ax.hist(boulder_temps,bins=500)\n",
    "\n",
    "ax.set_xlabel('Temperature (F)')\n",
    "ax.set_ylabel('Count (Days)')\n",
    "ax.set_title('Temperatures in Boulder, Colorado (2010-2021)')\n",
    "\n",
    "f.savefig('too_many_bins.png',facecolor='w')"
   ]
  },
  {
   "cell_type": "code",
   "execution_count": 25,
   "id": "137cdc4e",
   "metadata": {},
   "outputs": [
    {
     "ename": "NameError",
     "evalue": "name 'boulder_temps' is not defined",
     "output_type": "error",
     "traceback": [
      "\u001b[0;31m---------------------------------------------------------------------------\u001b[0m",
      "\u001b[0;31mNameError\u001b[0m                                 Traceback (most recent call last)",
      "Input \u001b[0;32mIn [25]\u001b[0m, in \u001b[0;36m<cell line: 2>\u001b[0;34m()\u001b[0m\n\u001b[1;32m      1\u001b[0m f,ax \u001b[38;5;241m=\u001b[39m plt\u001b[38;5;241m.\u001b[39msubplots()\n\u001b[0;32m----> 2\u001b[0m ax\u001b[38;5;241m.\u001b[39mhist(\u001b[43mboulder_temps\u001b[49m,bins\u001b[38;5;241m=\u001b[39m\u001b[38;5;241m25\u001b[39m)\n\u001b[1;32m      4\u001b[0m ax\u001b[38;5;241m.\u001b[39mset_xlabel(\u001b[38;5;124m'\u001b[39m\u001b[38;5;124mTemperature (F)\u001b[39m\u001b[38;5;124m'\u001b[39m)\n\u001b[1;32m      5\u001b[0m ax\u001b[38;5;241m.\u001b[39mset_ylabel(\u001b[38;5;124m'\u001b[39m\u001b[38;5;124mCount (Days)\u001b[39m\u001b[38;5;124m'\u001b[39m)\n",
      "\u001b[0;31mNameError\u001b[0m: name 'boulder_temps' is not defined"
     ]
    },
    {
     "data": {
      "image/png": "[encoded data removed]",
      "text/plain": [
       "<Figure size 432x288 with 1 Axes>"
      ]
     },
     "metadata": {
      "needs_background": "light"
     },
     "output_type": "display_data"
    }
   ],
   "source": [
    "f,ax = plt.subplots()\n",
    "ax.hist(boulder_temps,bins=25)\n",
    "\n",
    "ax.set_xlabel('Temperature (F)')\n",
    "ax.set_ylabel('Count (Days)')\n",
    "ax.set_title('Temperatures in Boulder, Colorado (2010-2021)')"
   ]
  },
  {
   "cell_type": "code",
   "execution_count": 26,
   "id": "b1fc9f7a",
   "metadata": {},
   "outputs": [
    {
     "ename": "KeyError",
     "evalue": "'TEMP'",
     "output_type": "error",
     "traceback": [
      "\u001b[0;31m---------------------------------------------------------------------------\u001b[0m",
      "\u001b[0;31mKeyError\u001b[0m                                  Traceback (most recent call last)",
      "File \u001b[0;32m~/opt/anaconda3/lib/python3.8/site-packages/pandas/core/indexes/base.py:3621\u001b[0m, in \u001b[0;36mIndex.get_loc\u001b[0;34m(self, key, method, tolerance)\u001b[0m\n\u001b[1;32m   3620\u001b[0m \u001b[38;5;28;01mtry\u001b[39;00m:\n\u001b[0;32m-> 3621\u001b[0m     \u001b[38;5;28;01mreturn\u001b[39;00m \u001b[38;5;28;43mself\u001b[39;49m\u001b[38;5;241;43m.\u001b[39;49m\u001b[43m_engine\u001b[49m\u001b[38;5;241;43m.\u001b[39;49m\u001b[43mget_loc\u001b[49m\u001b[43m(\u001b[49m\u001b[43mcasted_key\u001b[49m\u001b[43m)\u001b[49m\n\u001b[1;32m   3622\u001b[0m \u001b[38;5;28;01mexcept\u001b[39;00m \u001b[38;5;167;01mKeyError\u001b[39;00m \u001b[38;5;28;01mas\u001b[39;00m err:\n",
      "File \u001b[0;32m~/opt/anaconda3/lib/python3.8/site-packages/pandas/_libs/index.pyx:136\u001b[0m, in \u001b[0;36mpandas._libs.index.IndexEngine.get_loc\u001b[0;34m()\u001b[0m\n",
      "File \u001b[0;32m~/opt/anaconda3/lib/python3.8/site-packages/pandas/_libs/index.pyx:163\u001b[0m, in \u001b[0;36mpandas._libs.index.IndexEngine.get_loc\u001b[0;34m()\u001b[0m\n",
      "File \u001b[0;32mpandas/_libs/hashtable_class_helper.pxi:5198\u001b[0m, in \u001b[0;36mpandas._libs.hashtable.PyObjectHashTable.get_item\u001b[0;34m()\u001b[0m\n",
      "File \u001b[0;32mpandas/_libs/hashtable_class_helper.pxi:5206\u001b[0m, in \u001b[0;36mpandas._libs.hashtable.PyObjectHashTable.get_item\u001b[0;34m()\u001b[0m\n",
      "\u001b[0;31mKeyError\u001b[0m: 'TEMP'",
      "\nThe above exception was the direct cause of the following exception:\n",
      "\u001b[0;31mKeyError\u001b[0m                                  Traceback (most recent call last)",
      "Input \u001b[0;32mIn [26]\u001b[0m, in \u001b[0;36m<cell line: 3>\u001b[0;34m()\u001b[0m\n\u001b[1;32m      1\u001b[0m f,ax \u001b[38;5;241m=\u001b[39m plt\u001b[38;5;241m.\u001b[39msubplots()\n\u001b[0;32m----> 3\u001b[0m ax\u001b[38;5;241m.\u001b[39mhist(\u001b[43mbroomfield_df\u001b[49m\u001b[43m[\u001b[49m\u001b[38;5;124;43m'\u001b[39;49m\u001b[38;5;124;43mTEMP\u001b[39;49m\u001b[38;5;124;43m'\u001b[39;49m\u001b[43m]\u001b[49m,bins\u001b[38;5;241m=\u001b[39m\u001b[38;5;241m25\u001b[39m)\n",
      "File \u001b[0;32m~/opt/anaconda3/lib/python3.8/site-packages/pandas/core/frame.py:3505\u001b[0m, in \u001b[0;36mDataFrame.__getitem__\u001b[0;34m(self, key)\u001b[0m\n\u001b[1;32m   3503\u001b[0m \u001b[38;5;28;01mif\u001b[39;00m \u001b[38;5;28mself\u001b[39m\u001b[38;5;241m.\u001b[39mcolumns\u001b[38;5;241m.\u001b[39mnlevels \u001b[38;5;241m>\u001b[39m \u001b[38;5;241m1\u001b[39m:\n\u001b[1;32m   3504\u001b[0m     \u001b[38;5;28;01mreturn\u001b[39;00m \u001b[38;5;28mself\u001b[39m\u001b[38;5;241m.\u001b[39m_getitem_multilevel(key)\n\u001b[0;32m-> 3505\u001b[0m indexer \u001b[38;5;241m=\u001b[39m \u001b[38;5;28;43mself\u001b[39;49m\u001b[38;5;241;43m.\u001b[39;49m\u001b[43mcolumns\u001b[49m\u001b[38;5;241;43m.\u001b[39;49m\u001b[43mget_loc\u001b[49m\u001b[43m(\u001b[49m\u001b[43mkey\u001b[49m\u001b[43m)\u001b[49m\n\u001b[1;32m   3506\u001b[0m \u001b[38;5;28;01mif\u001b[39;00m is_integer(indexer):\n\u001b[1;32m   3507\u001b[0m     indexer \u001b[38;5;241m=\u001b[39m [indexer]\n",
      "File \u001b[0;32m~/opt/anaconda3/lib/python3.8/site-packages/pandas/core/indexes/base.py:3623\u001b[0m, in \u001b[0;36mIndex.get_loc\u001b[0;34m(self, key, method, tolerance)\u001b[0m\n\u001b[1;32m   3621\u001b[0m     \u001b[38;5;28;01mreturn\u001b[39;00m \u001b[38;5;28mself\u001b[39m\u001b[38;5;241m.\u001b[39m_engine\u001b[38;5;241m.\u001b[39mget_loc(casted_key)\n\u001b[1;32m   3622\u001b[0m \u001b[38;5;28;01mexcept\u001b[39;00m \u001b[38;5;167;01mKeyError\u001b[39;00m \u001b[38;5;28;01mas\u001b[39;00m err:\n\u001b[0;32m-> 3623\u001b[0m     \u001b[38;5;28;01mraise\u001b[39;00m \u001b[38;5;167;01mKeyError\u001b[39;00m(key) \u001b[38;5;28;01mfrom\u001b[39;00m \u001b[38;5;21;01merr\u001b[39;00m\n\u001b[1;32m   3624\u001b[0m \u001b[38;5;28;01mexcept\u001b[39;00m \u001b[38;5;167;01mTypeError\u001b[39;00m:\n\u001b[1;32m   3625\u001b[0m     \u001b[38;5;66;03m# If we have a listlike key, _check_indexing_error will raise\u001b[39;00m\n\u001b[1;32m   3626\u001b[0m     \u001b[38;5;66;03m#  InvalidIndexError. Otherwise we fall through and re-raise\u001b[39;00m\n\u001b[1;32m   3627\u001b[0m     \u001b[38;5;66;03m#  the TypeError.\u001b[39;00m\n\u001b[1;32m   3628\u001b[0m     \u001b[38;5;28mself\u001b[39m\u001b[38;5;241m.\u001b[39m_check_indexing_error(key)\n",
      "\u001b[0;31mKeyError\u001b[0m: 'TEMP'"
     ]
    },
    {
     "data": {
      "image/png": "[encoded data removed]",
      "text/plain": [
       "<Figure size 432x288 with 1 Axes>"
      ]
     },
     "metadata": {
      "needs_background": "light"
     },
     "output_type": "display_data"
    }
   ],
   "source": [
    "f,ax = plt.subplots()\n",
    "\n",
    "ax.hist(broomfield_df['TEMP'],bins=25);"
   ]
  },
  {
   "cell_type": "code",
   "execution_count": 27,
   "id": "7957cee4",
   "metadata": {},
   "outputs": [
    {
     "ename": "KeyError",
     "evalue": "'TEMP'",
     "output_type": "error",
     "traceback": [
      "\u001b[0;31m---------------------------------------------------------------------------\u001b[0m",
      "\u001b[0;31mKeyError\u001b[0m                                  Traceback (most recent call last)",
      "File \u001b[0;32m~/opt/anaconda3/lib/python3.8/site-packages/pandas/core/indexes/base.py:3621\u001b[0m, in \u001b[0;36mIndex.get_loc\u001b[0;34m(self, key, method, tolerance)\u001b[0m\n\u001b[1;32m   3620\u001b[0m \u001b[38;5;28;01mtry\u001b[39;00m:\n\u001b[0;32m-> 3621\u001b[0m     \u001b[38;5;28;01mreturn\u001b[39;00m \u001b[38;5;28;43mself\u001b[39;49m\u001b[38;5;241;43m.\u001b[39;49m\u001b[43m_engine\u001b[49m\u001b[38;5;241;43m.\u001b[39;49m\u001b[43mget_loc\u001b[49m\u001b[43m(\u001b[49m\u001b[43mcasted_key\u001b[49m\u001b[43m)\u001b[49m\n\u001b[1;32m   3622\u001b[0m \u001b[38;5;28;01mexcept\u001b[39;00m \u001b[38;5;167;01mKeyError\u001b[39;00m \u001b[38;5;28;01mas\u001b[39;00m err:\n",
      "File \u001b[0;32m~/opt/anaconda3/lib/python3.8/site-packages/pandas/_libs/index.pyx:136\u001b[0m, in \u001b[0;36mpandas._libs.index.IndexEngine.get_loc\u001b[0;34m()\u001b[0m\n",
      "File \u001b[0;32m~/opt/anaconda3/lib/python3.8/site-packages/pandas/_libs/index.pyx:163\u001b[0m, in \u001b[0;36mpandas._libs.index.IndexEngine.get_loc\u001b[0;34m()\u001b[0m\n",
      "File \u001b[0;32mpandas/_libs/hashtable_class_helper.pxi:5198\u001b[0m, in \u001b[0;36mpandas._libs.hashtable.PyObjectHashTable.get_item\u001b[0;34m()\u001b[0m\n",
      "File \u001b[0;32mpandas/_libs/hashtable_class_helper.pxi:5206\u001b[0m, in \u001b[0;36mpandas._libs.hashtable.PyObjectHashTable.get_item\u001b[0;34m()\u001b[0m\n",
      "\u001b[0;31mKeyError\u001b[0m: 'TEMP'",
      "\nThe above exception was the direct cause of the following exception:\n",
      "\u001b[0;31mKeyError\u001b[0m                                  Traceback (most recent call last)",
      "Input \u001b[0;32mIn [27]\u001b[0m, in \u001b[0;36m<cell line: 3>\u001b[0;34m()\u001b[0m\n\u001b[1;32m      1\u001b[0m f,a_subplot \u001b[38;5;241m=\u001b[39m plt\u001b[38;5;241m.\u001b[39msubplots()\n\u001b[0;32m----> 3\u001b[0m \u001b[43mbroomfield_df\u001b[49m\u001b[43m[\u001b[49m\u001b[38;5;124;43m'\u001b[39;49m\u001b[38;5;124;43mTEMP\u001b[39;49m\u001b[38;5;124;43m'\u001b[39;49m\u001b[43m]\u001b[49m\u001b[38;5;241m.\u001b[39mplot\u001b[38;5;241m.\u001b[39mhist(ax\u001b[38;5;241m=\u001b[39ma_subplot,bins\u001b[38;5;241m=\u001b[39m\u001b[38;5;241m50\u001b[39m)\n",
      "File \u001b[0;32m~/opt/anaconda3/lib/python3.8/site-packages/pandas/core/frame.py:3505\u001b[0m, in \u001b[0;36mDataFrame.__getitem__\u001b[0;34m(self, key)\u001b[0m\n\u001b[1;32m   3503\u001b[0m \u001b[38;5;28;01mif\u001b[39;00m \u001b[38;5;28mself\u001b[39m\u001b[38;5;241m.\u001b[39mcolumns\u001b[38;5;241m.\u001b[39mnlevels \u001b[38;5;241m>\u001b[39m \u001b[38;5;241m1\u001b[39m:\n\u001b[1;32m   3504\u001b[0m     \u001b[38;5;28;01mreturn\u001b[39;00m \u001b[38;5;28mself\u001b[39m\u001b[38;5;241m.\u001b[39m_getitem_multilevel(key)\n\u001b[0;32m-> 3505\u001b[0m indexer \u001b[38;5;241m=\u001b[39m \u001b[38;5;28;43mself\u001b[39;49m\u001b[38;5;241;43m.\u001b[39;49m\u001b[43mcolumns\u001b[49m\u001b[38;5;241;43m.\u001b[39;49m\u001b[43mget_loc\u001b[49m\u001b[43m(\u001b[49m\u001b[43mkey\u001b[49m\u001b[43m)\u001b[49m\n\u001b[1;32m   3506\u001b[0m \u001b[38;5;28;01mif\u001b[39;00m is_integer(indexer):\n\u001b[1;32m   3507\u001b[0m     indexer \u001b[38;5;241m=\u001b[39m [indexer]\n",
      "File \u001b[0;32m~/opt/anaconda3/lib/python3.8/site-packages/pandas/core/indexes/base.py:3623\u001b[0m, in \u001b[0;36mIndex.get_loc\u001b[0;34m(self, key, method, tolerance)\u001b[0m\n\u001b[1;32m   3621\u001b[0m     \u001b[38;5;28;01mreturn\u001b[39;00m \u001b[38;5;28mself\u001b[39m\u001b[38;5;241m.\u001b[39m_engine\u001b[38;5;241m.\u001b[39mget_loc(casted_key)\n\u001b[1;32m   3622\u001b[0m \u001b[38;5;28;01mexcept\u001b[39;00m \u001b[38;5;167;01mKeyError\u001b[39;00m \u001b[38;5;28;01mas\u001b[39;00m err:\n\u001b[0;32m-> 3623\u001b[0m     \u001b[38;5;28;01mraise\u001b[39;00m \u001b[38;5;167;01mKeyError\u001b[39;00m(key) \u001b[38;5;28;01mfrom\u001b[39;00m \u001b[38;5;21;01merr\u001b[39;00m\n\u001b[1;32m   3624\u001b[0m \u001b[38;5;28;01mexcept\u001b[39;00m \u001b[38;5;167;01mTypeError\u001b[39;00m:\n\u001b[1;32m   3625\u001b[0m     \u001b[38;5;66;03m# If we have a listlike key, _check_indexing_error will raise\u001b[39;00m\n\u001b[1;32m   3626\u001b[0m     \u001b[38;5;66;03m#  InvalidIndexError. Otherwise we fall through and re-raise\u001b[39;00m\n\u001b[1;32m   3627\u001b[0m     \u001b[38;5;66;03m#  the TypeError.\u001b[39;00m\n\u001b[1;32m   3628\u001b[0m     \u001b[38;5;28mself\u001b[39m\u001b[38;5;241m.\u001b[39m_check_indexing_error(key)\n",
      "\u001b[0;31mKeyError\u001b[0m: 'TEMP'"
     ]
    },
    {
     "data": {
      "image/png": "[encoded data removed]",
      "text/plain": [
       "<Figure size 432x288 with 1 Axes>"
      ]
     },
     "metadata": {
      "needs_background": "light"
     },
     "output_type": "display_data"
    }
   ],
   "source": [
    "f,a_subplot = plt.subplots()\n",
    "\n",
    "broomfield_df['TEMP'].plot.hist(ax=a_subplot,bins=50)"
   ]
  },
  {
   "cell_type": "markdown",
   "id": "509b7306",
   "metadata": {},
   "source": [
    "## Skewed data\n",
    "\n",
    "The weather data has nice statistical and visual properties of being (approximately) normally distributed. Many kinds of data do not have this property and instead show a strong skew with low counts being significantly more represented than high counts.\n",
    "\n",
    "Load in the county COVID data from Week 3 as `co_covid_df`."
   ]
  },
  {
   "cell_type": "code",
   "execution_count": 30,
   "id": "3676f019",
   "metadata": {},
   "outputs": [
    {
     "data": {
      "text/html": [
       "<div>\n",
       "<style scoped>\n",
       "    .dataframe tbody tr th:only-of-type {\n",
       "        vertical-align: middle;\n",
       "    }\n",
       "\n",
       "    .dataframe tbody tr th {\n",
       "        vertical-align: top;\n",
       "    }\n",
       "\n",
       "    .dataframe thead th {\n",
       "        text-align: right;\n",
       "    }\n",
       "</style>\n",
       "<table border=\"1\" class=\"dataframe\">\n",
       "  <thead>\n",
       "    <tr style=\"text-align: right;\">\n",
       "      <th></th>\n",
       "      <th>Date</th>\n",
       "      <th>County</th>\n",
       "      <th>Cases</th>\n",
       "      <th>Deaths</th>\n",
       "      <th>Month</th>\n",
       "      <th>Year</th>\n",
       "    </tr>\n",
       "  </thead>\n",
       "  <tbody>\n",
       "    <tr>\n",
       "      <th>0</th>\n",
       "      <td>2020-03-01</td>\n",
       "      <td>Adams</td>\n",
       "      <td>0.0</td>\n",
       "      <td>0.0</td>\n",
       "      <td>3</td>\n",
       "      <td>2020</td>\n",
       "    </tr>\n",
       "    <tr>\n",
       "      <th>1</th>\n",
       "      <td>2020-03-02</td>\n",
       "      <td>Adams</td>\n",
       "      <td>0.0</td>\n",
       "      <td>0.0</td>\n",
       "      <td>3</td>\n",
       "      <td>2020</td>\n",
       "    </tr>\n",
       "    <tr>\n",
       "      <th>2</th>\n",
       "      <td>2020-03-03</td>\n",
       "      <td>Adams</td>\n",
       "      <td>0.0</td>\n",
       "      <td>0.0</td>\n",
       "      <td>3</td>\n",
       "      <td>2020</td>\n",
       "    </tr>\n",
       "    <tr>\n",
       "      <th>3</th>\n",
       "      <td>2020-03-04</td>\n",
       "      <td>Adams</td>\n",
       "      <td>0.0</td>\n",
       "      <td>0.0</td>\n",
       "      <td>3</td>\n",
       "      <td>2020</td>\n",
       "    </tr>\n",
       "    <tr>\n",
       "      <th>4</th>\n",
       "      <td>2020-03-05</td>\n",
       "      <td>Adams</td>\n",
       "      <td>1.0</td>\n",
       "      <td>0.0</td>\n",
       "      <td>3</td>\n",
       "      <td>2020</td>\n",
       "    </tr>\n",
       "  </tbody>\n",
       "</table>\n",
       "</div>"
      ],
      "text/plain": [
       "         Date County  Cases  Deaths  Month  Year\n",
       "0  2020-03-01  Adams    0.0     0.0      3  2020\n",
       "1  2020-03-02  Adams    0.0     0.0      3  2020\n",
       "2  2020-03-03  Adams    0.0     0.0      3  2020\n",
       "3  2020-03-04  Adams    0.0     0.0      3  2020\n",
       "4  2020-03-05  Adams    1.0     0.0      3  2020"
      ]
     },
     "execution_count": 30,
     "metadata": {},
     "output_type": "execute_result"
    }
   ],
   "source": [
    "co_covid_df = pd.read_csv('co_county_covid.csv')\n",
    "co_covid_df.head()"
   ]
  },
  {
   "cell_type": "code",
   "execution_count": 31,
   "id": "88bc0e36",
   "metadata": {},
   "outputs": [
    {
     "data": {
      "image/png": "[encoded data removed]",
      "text/plain": [
       "<Figure size 432x288 with 1 Axes>"
      ]
     },
     "metadata": {
      "needs_background": "light"
     },
     "output_type": "display_data"
    }
   ],
   "source": [
    "covid_cases = co_covid_df['Cases'].values\n",
    "\n",
    "f,ax = plt.subplots()\n",
    "ax.hist(covid_cases)\n",
    "\n",
    "ax.set_xlabel('Cases')\n",
    "ax.set_ylabel('Count (Monthly)')\n",
    "ax.set_title('COVID-19 Cases in Colorado Counties')\n",
    "\n",
    "f.savefig('county_cases.png',facecolor='w')"
   ]
  },
  {
   "cell_type": "markdown",
   "id": "f7a037bd",
   "metadata": {},
   "source": [
    "Even adding more bins does not improve this visualization."
   ]
  },
  {
   "cell_type": "code",
   "execution_count": 32,
   "id": "f6d12eeb",
   "metadata": {},
   "outputs": [
    {
     "data": {
      "text/plain": [
       "Text(0.5, 1.0, 'COVID-19 Cases in Colorado Counties')"
      ]
     },
     "execution_count": 32,
     "metadata": {},
     "output_type": "execute_result"
    },
    {
     "data": {
      "image/png": "[encoded data removed]",
      "text/plain": [
       "<Figure size 432x288 with 1 Axes>"
      ]
     },
     "metadata": {
      "needs_background": "light"
     },
     "output_type": "display_data"
    }
   ],
   "source": [
    "f,ax = plt.subplots()\n",
    "ax.hist(covid_cases,bins=50)\n",
    "\n",
    "ax.set_xlabel('Cases')\n",
    "ax.set_ylabel('Count (Monthly)')\n",
    "ax.set_title('COVID-19 Cases in Colorado Counties')"
   ]
  },
  {
   "cell_type": "code",
   "execution_count": 33,
   "id": "b4d3a0df",
   "metadata": {},
   "outputs": [
    {
     "data": {
      "text/plain": [
       "array([    1. ,  1000.9,  2000.8,  3000.7,  4000.6,  5000.5,  6000.4,\n",
       "        7000.3,  8000.2,  9000.1, 10000. ])"
      ]
     },
     "execution_count": 33,
     "metadata": {},
     "output_type": "execute_result"
    }
   ],
   "source": [
    "np.linspace(1,10000,11)"
   ]
  },
  {
   "cell_type": "code",
   "execution_count": 34,
   "id": "67139a62",
   "metadata": {},
   "outputs": [
    {
     "data": {
      "text/plain": [
       "array([    1.        ,     2.51188643,     6.30957344,    15.84893192,\n",
       "          39.81071706,   100.        ,   251.18864315,   630.95734448,\n",
       "        1584.89319246,  3981.07170553, 10000.        ])"
      ]
     },
     "execution_count": 34,
     "metadata": {},
     "output_type": "execute_result"
    }
   ],
   "source": [
    "np.geomspace(1,10000,11) # The start and stop values are in base units 10^0 = 1, 10^4 = 10000"
   ]
  },
  {
   "cell_type": "markdown",
   "id": "2c204d11",
   "metadata": {},
   "source": [
    "We can pass these bin boundaries into the \"bins\" parameter for `hist`."
   ]
  },
  {
   "cell_type": "code",
   "execution_count": 35,
   "id": "a657565a",
   "metadata": {},
   "outputs": [
    {
     "data": {
      "text/plain": [
       "Text(0.5, 1.0, 'COVID-19 Cases in Colorado Counties')"
      ]
     },
     "execution_count": 35,
     "metadata": {},
     "output_type": "execute_result"
    },
    {
     "data": {
      "image/png": "[encoded data removed]",
      "text/plain": [
       "<Figure size 432x288 with 1 Axes>"
      ]
     },
     "metadata": {
      "needs_background": "light"
     },
     "output_type": "display_data"
    }
   ],
   "source": [
    "f,ax = plt.subplots()\n",
    "ax.hist(covid_cases,bins=np.linspace(1,10000,11)) # Linear bin sizes\n",
    "\n",
    "ax.set_xlabel('Cases')\n",
    "ax.set_ylabel('Count (Monthly)')\n",
    "ax.set_title('COVID-19 Cases in Colorado Counties')"
   ]
  },
  {
   "cell_type": "markdown",
   "id": "645815b7",
   "metadata": {},
   "source": [
    "Use the geometrically-spaced bins instead. There's definitely something different going on here!"
   ]
  },
  {
   "cell_type": "code",
   "execution_count": 36,
   "id": "8e037f86",
   "metadata": {},
   "outputs": [
    {
     "data": {
      "text/plain": [
       "Text(0.5, 1.0, 'COVID-19 Cases in Colorado Counties')"
      ]
     },
     "execution_count": 36,
     "metadata": {},
     "output_type": "execute_result"
    },
    {
     "data": {
      "image/png": "[encoded data removed]",
      "text/plain": [
       "<Figure size 432x288 with 1 Axes>"
      ]
     },
     "metadata": {
      "needs_background": "light"
     },
     "output_type": "display_data"
    }
   ],
   "source": [
    "f,ax = plt.subplots()\n",
    "ax.hist(covid_cases,bins=np.geomspace(1,10000,11)) # Geometric bin sizes\n",
    "\n",
    "ax.set_xlabel('Cases')\n",
    "ax.set_ylabel('Count (Monthly)')\n",
    "ax.set_title('COVID-19 Cases in Colorado Counties')"
   ]
  },
  {
   "cell_type": "code",
   "execution_count": 37,
   "id": "c1455099",
   "metadata": {},
   "outputs": [
    {
     "data": {
      "image/png": "[encoded data removed]",
      "text/plain": [
       "<Figure size 432x288 with 1 Axes>"
      ]
     },
     "metadata": {
      "needs_background": "light"
     },
     "output_type": "display_data"
    }
   ],
   "source": [
    "f,ax = plt.subplots()\n",
    "ax.hist(covid_cases,bins=np.geomspace(1,10000,11)) # Geometric bin sizes\n",
    "\n",
    "ax.set_xlabel('Cases')\n",
    "ax.set_ylabel('Count (Monthly)')\n",
    "ax.set_title('Monthly COVID-19 Cases in Colorado Counties')\n",
    "\n",
    "ax.set_xscale('log')\n",
    "# ax.set_yscale('log')"
   ]
  },
  {
   "cell_type": "code",
   "execution_count": 38,
   "id": "fd5a53a5",
   "metadata": {},
   "outputs": [],
   "source": [
    "# https://stackoverflow.com/a/58331860/1574687\n",
    "\n",
    "# Rescale data to be (0,1)\n",
    "from sklearn.preprocessing import minmax_scale\n",
    "_size = 1000\n",
    "\n",
    "# Make random distributions of different shapes\n",
    "random_exponential = minmax_scale(np.random.exponential(size=_size),feature_range=(0,1))\n",
    "random_lognormal = minmax_scale(np.random.lognormal(size=_size),feature_range=(0,1))\n",
    "random_pareto = minmax_scale(np.random.pareto(.9,size=_size),feature_range=(0,1))\n",
    "random_power = minmax_scale(np.random.power(.1,size=_size),feature_range=(0,1))"
   ]
  },
  {
   "cell_type": "markdown",
   "id": "18af888d",
   "metadata": {},
   "source": [
    "On linear axes and bins these distributions look pretty similar."
   ]
  },
  {
   "cell_type": "code",
   "execution_count": 39,
   "id": "71bacbdd",
   "metadata": {},
   "outputs": [
    {
     "data": {
      "image/png": "[encoded data removed]",
      "text/plain": [
       "<Figure size 1152x288 with 4 Axes>"
      ]
     },
     "metadata": {},
     "output_type": "display_data"
    }
   ],
   "source": [
    "# Make four subplots\n",
    "f,(ax0,ax1,ax2,ax3) = plt.subplots(\n",
    "    nrows = 1,\n",
    "    ncols = 4,\n",
    "    figsize=(16,4)\n",
    ")\n",
    "\n",
    "# Histograms for each subplot\n",
    "ax0.hist(random_exponential,bins=25)\n",
    "ax1.hist(random_lognormal,bins=25)\n",
    "ax2.hist(random_pareto,bins=25)\n",
    "ax3.hist(random_power,bins=25)\n",
    "\n",
    "# Set titles\n",
    "ax0.set_title('Exponential')\n",
    "ax1.set_title('Log-normal')\n",
    "ax2.set_title('Pareto')\n",
    "ax3.set_title('Power')\n",
    "\n",
    "# Super-title and cleanup\n",
    "f.suptitle('Long-tailed distributions')\n",
    "f.set_facecolor('w')\n",
    "f.tight_layout()"
   ]
  },
  {
   "cell_type": "markdown",
   "id": "69741b9f",
   "metadata": {},
   "source": [
    "On log axes and bins they look very different!"
   ]
  },
  {
   "cell_type": "code",
   "execution_count": 40,
   "id": "309ee49d",
   "metadata": {},
   "outputs": [
    {
     "data": {
      "image/png": "[encoded data removed]",
      "text/plain": [
       "<Figure size 1152x288 with 4 Axes>"
      ]
     },
     "metadata": {},
     "output_type": "display_data"
    }
   ],
   "source": [
    "# Make four subplots\n",
    "f,(ax0,ax1,ax2,ax3) = plt.subplots(\n",
    "    nrows = 1,\n",
    "    ncols = 4,\n",
    "    figsize = (16,4),\n",
    "    subplot_kw = {'xscale':'log'}\n",
    ")\n",
    "\n",
    "# Histograms for each subplot with geomspace bins\n",
    "ax0.hist(random_exponential,bins=np.geomspace(1e-3,1e0,25))\n",
    "ax1.hist(random_lognormal,bins=np.geomspace(1e-3,1e0,25))\n",
    "ax2.hist(random_pareto,bins=np.geomspace(1e-4,1e0,25))\n",
    "ax3.hist(random_power,bins=np.geomspace(1e-3,1e0,25))\n",
    "\n",
    "# Set titles\n",
    "ax0.set_title('Exponential')\n",
    "ax1.set_title('Log-normal')\n",
    "ax2.set_title('Pareto')\n",
    "ax3.set_title('Power')\n",
    "\n",
    "# Super-title and cleanup\n",
    "f.suptitle('Long-tailed distributions')\n",
    "f.set_facecolor('w')\n",
    "f.tight_layout()"
   ]
  },
  {
   "cell_type": "code",
   "execution_count": 41,
   "id": "f3dfa6bf",
   "metadata": {},
   "outputs": [
    {
     "data": {
      "text/html": [
       "<div>\n",
       "<style scoped>\n",
       "    .dataframe tbody tr th:only-of-type {\n",
       "        vertical-align: middle;\n",
       "    }\n",
       "\n",
       "    .dataframe tbody tr th {\n",
       "        vertical-align: top;\n",
       "    }\n",
       "\n",
       "    .dataframe thead th {\n",
       "        text-align: right;\n",
       "    }\n",
       "</style>\n",
       "<table border=\"1\" class=\"dataframe\">\n",
       "  <thead>\n",
       "    <tr style=\"text-align: right;\">\n",
       "      <th></th>\n",
       "      <th>Date</th>\n",
       "      <th>County</th>\n",
       "      <th>Cases</th>\n",
       "      <th>Deaths</th>\n",
       "      <th>Month</th>\n",
       "      <th>Year</th>\n",
       "    </tr>\n",
       "  </thead>\n",
       "  <tbody>\n",
       "    <tr>\n",
       "      <th>0</th>\n",
       "      <td>2020-03-01</td>\n",
       "      <td>Adams</td>\n",
       "      <td>0.0</td>\n",
       "      <td>0.0</td>\n",
       "      <td>3</td>\n",
       "      <td>2020</td>\n",
       "    </tr>\n",
       "    <tr>\n",
       "      <th>1</th>\n",
       "      <td>2020-03-02</td>\n",
       "      <td>Adams</td>\n",
       "      <td>0.0</td>\n",
       "      <td>0.0</td>\n",
       "      <td>3</td>\n",
       "      <td>2020</td>\n",
       "    </tr>\n",
       "    <tr>\n",
       "      <th>2</th>\n",
       "      <td>2020-03-03</td>\n",
       "      <td>Adams</td>\n",
       "      <td>0.0</td>\n",
       "      <td>0.0</td>\n",
       "      <td>3</td>\n",
       "      <td>2020</td>\n",
       "    </tr>\n",
       "    <tr>\n",
       "      <th>3</th>\n",
       "      <td>2020-03-04</td>\n",
       "      <td>Adams</td>\n",
       "      <td>0.0</td>\n",
       "      <td>0.0</td>\n",
       "      <td>3</td>\n",
       "      <td>2020</td>\n",
       "    </tr>\n",
       "    <tr>\n",
       "      <th>4</th>\n",
       "      <td>2020-03-05</td>\n",
       "      <td>Adams</td>\n",
       "      <td>1.0</td>\n",
       "      <td>0.0</td>\n",
       "      <td>3</td>\n",
       "      <td>2020</td>\n",
       "    </tr>\n",
       "  </tbody>\n",
       "</table>\n",
       "</div>"
      ],
      "text/plain": [
       "         Date County  Cases  Deaths  Month  Year\n",
       "0  2020-03-01  Adams    0.0     0.0      3  2020\n",
       "1  2020-03-02  Adams    0.0     0.0      3  2020\n",
       "2  2020-03-03  Adams    0.0     0.0      3  2020\n",
       "3  2020-03-04  Adams    0.0     0.0      3  2020\n",
       "4  2020-03-05  Adams    1.0     0.0      3  2020"
      ]
     },
     "execution_count": 41,
     "metadata": {},
     "output_type": "execute_result"
    }
   ],
   "source": [
    "co_covid_df.head()"
   ]
  },
  {
   "cell_type": "code",
   "execution_count": 42,
   "id": "14f90eea",
   "metadata": {},
   "outputs": [
    {
     "data": {
      "text/plain": [
       "<AxesSubplot:ylabel='Frequency'>"
      ]
     },
     "execution_count": 42,
     "metadata": {},
     "output_type": "execute_result"
    },
    {
     "data": {
      "image/png": "[encoded data removed]",
      "text/plain": [
       "<Figure size 432x288 with 1 Axes>"
      ]
     },
     "metadata": {
      "needs_background": "light"
     },
     "output_type": "display_data"
    }
   ],
   "source": [
    "f,covid_deaths_ax = plt.subplots()\n",
    "\n",
    "co_covid_df['Deaths'].plot.hist(ax=covid_deaths_ax)"
   ]
  },
  {
   "cell_type": "code",
   "execution_count": 43,
   "id": "17cc9da1",
   "metadata": {},
   "outputs": [],
   "source": [
    "no_neg_deaths = co_covid_df[co_covid_df['Deaths'] > 0]"
   ]
  },
  {
   "cell_type": "code",
   "execution_count": 44,
   "id": "58945a78",
   "metadata": {},
   "outputs": [
    {
     "data": {
      "image/png": "[encoded data removed]",
      "text/plain": [
       "<Figure size 432x288 with 1 Axes>"
      ]
     },
     "metadata": {
      "needs_background": "light"
     },
     "output_type": "display_data"
    }
   ],
   "source": [
    "f,ax = plt.subplots()\n",
    "no_neg_deaths['Deaths'].plot.hist(ax=ax,bins=np.geomspace(1,40,10))\n",
    "ax.set_xscale('log')"
   ]
  },
  {
   "cell_type": "code",
   "execution_count": 45,
   "id": "182559f0",
   "metadata": {},
   "outputs": [
    {
     "data": {
      "text/plain": [
       "((4614, 11), (4560, 11))"
      ]
     },
     "execution_count": 45,
     "metadata": {},
     "output_type": "execute_result"
    }
   ],
   "source": [
    "boulder_df.shape, broomfield_df.shape"
   ]
  },
  {
   "cell_type": "code",
   "execution_count": null,
   "id": "4b19b174",
   "metadata": {},
   "outputs": [],
   "source": [
    "boulder_temps = both_df['TEMP_BOULDER'].values\n",
    "broomfield_temps = both_df['TEMP_BROOMFIELD'].values"
   ]
  },
  {
   "cell_type": "markdown",
   "id": "0063fc1d",
   "metadata": {},
   "source": [
    "Option 1 is to make side-by-side plots. The \"ncols\" parameter is changed from default 1 to 2. Now the `subplots` function produces two subplot axes that I capture as `ax0` and `ax1`."
   ]
  },
  {
   "cell_type": "code",
   "execution_count": null,
   "id": "84509480",
   "metadata": {},
   "outputs": [],
   "source": [
    "f,(ax0,ax1) = plt.subplots(1,2)"
   ]
  },
  {
   "cell_type": "code",
   "execution_count": null,
   "id": "d8d3502f",
   "metadata": {},
   "outputs": [],
   "source": [
    "f,(ax0,ax1) = plt.subplots(\n",
    "    nrows=1,\n",
    "    ncols=2,\n",
    "    figsize=(8,4),\n",
    "    sharey=True\n",
    ")\n",
    "\n",
    "ax0.hist(boulder_temps,bins=25)\n",
    "ax1.hist(broomfield_temps,bins=25)\n",
    "\n",
    "ax0.set_xlabel('Temperature (F)')\n",
    "ax0.set_ylabel('Count (Days)')\n",
    "ax0.set_title('Boulder, Colorado')\n",
    "\n",
    "ax1.set_xlabel('Temperature (F)')\n",
    "ax1.set_ylabel('Count (Days)')\n",
    "ax1.set_title('Broomfield, Colorado')\n",
    "\n",
    "f.suptitle('Temperatures 2010-2021',fontweight='heavy')\n",
    "f.tight_layout()\n",
    "\n",
    "f.savefig('hist_temp_boulder_broomfield.png',facecolor='w')"
   ]
  },
  {
   "cell_type": "markdown",
   "id": "f03f16bb",
   "metadata": {},
   "source": [
    "Option 2 is to make the histogram on a single plot but with different bars for each city. This is hard with default matplotlib, but is easier with pandas and seaborn.\n",
    "\n",
    "stack ([docs](https://numpy.org/doc/stable/reference/generated/numpy.stack.html)) the two arrays together (similar to a concat)."
   ]
  },
  {
   "cell_type": "code",
   "execution_count": 50,
   "id": "597825d0",
   "metadata": {},
   "outputs": [
    {
     "ename": "NameError",
     "evalue": "name 'boulder_temps' is not defined",
     "output_type": "error",
     "traceback": [
      "\u001b[0;31m---------------------------------------------------------------------------\u001b[0m",
      "\u001b[0;31mNameError\u001b[0m                                 Traceback (most recent call last)",
      "Input \u001b[0;32mIn [50]\u001b[0m, in \u001b[0;36m<cell line: 2>\u001b[0;34m()\u001b[0m\n\u001b[1;32m      1\u001b[0m \u001b[38;5;66;03m# Stack the numpy arrays together\u001b[39;00m\n\u001b[0;32m----> 2\u001b[0m stacked_arrays \u001b[38;5;241m=\u001b[39m np\u001b[38;5;241m.\u001b[39mstack([\u001b[43mboulder_temps\u001b[49m,broomfield_temps],axis\u001b[38;5;241m=\u001b[39m\u001b[38;5;241m1\u001b[39m)\n\u001b[1;32m      3\u001b[0m boulder_temps\u001b[38;5;241m.\u001b[39mshape, broomfield_temps\u001b[38;5;241m.\u001b[39mshape, stacked_arrays\u001b[38;5;241m.\u001b[39mshape\n",
      "\u001b[0;31mNameError\u001b[0m: name 'boulder_temps' is not defined"
     ]
    }
   ],
   "source": [
    "# Stack the numpy arrays together\n",
    "stacked_arrays = np.stack([boulder_temps,broomfield_temps],axis=1)\n",
    "boulder_temps.shape, broomfield_temps.shape, stacked_arrays.shape"
   ]
  },
  {
   "cell_type": "code",
   "execution_count": 49,
   "id": "d12e8f35",
   "metadata": {},
   "outputs": [
    {
     "ename": "NameError",
     "evalue": "name 'stacked_arrays' is not defined",
     "output_type": "error",
     "traceback": [
      "\u001b[0;31m---------------------------------------------------------------------------\u001b[0m",
      "\u001b[0;31mNameError\u001b[0m                                 Traceback (most recent call last)",
      "Input \u001b[0;32mIn [49]\u001b[0m, in \u001b[0;36m<cell line: 3>\u001b[0;34m()\u001b[0m\n\u001b[1;32m      1\u001b[0m f,ax \u001b[38;5;241m=\u001b[39m plt\u001b[38;5;241m.\u001b[39msubplots()\n\u001b[1;32m      3\u001b[0m ax\u001b[38;5;241m.\u001b[39mhist(\n\u001b[0;32m----> 4\u001b[0m     \u001b[43mstacked_arrays\u001b[49m,\n\u001b[1;32m      5\u001b[0m     bins \u001b[38;5;241m=\u001b[39m \u001b[38;5;241m15\u001b[39m,\n\u001b[1;32m      6\u001b[0m     histtype \u001b[38;5;241m=\u001b[39m \u001b[38;5;124m'\u001b[39m\u001b[38;5;124mbar\u001b[39m\u001b[38;5;124m'\u001b[39m, \n\u001b[1;32m      7\u001b[0m     color \u001b[38;5;241m=\u001b[39m [\u001b[38;5;124m'\u001b[39m\u001b[38;5;124mtab:red\u001b[39m\u001b[38;5;124m'\u001b[39m,\u001b[38;5;124m'\u001b[39m\u001b[38;5;124mtab:blue\u001b[39m\u001b[38;5;124m'\u001b[39m], \n\u001b[1;32m      8\u001b[0m     label \u001b[38;5;241m=\u001b[39m [\u001b[38;5;124m'\u001b[39m\u001b[38;5;124mBoulder\u001b[39m\u001b[38;5;124m'\u001b[39m,\u001b[38;5;124m'\u001b[39m\u001b[38;5;124mBroomfield\u001b[39m\u001b[38;5;124m'\u001b[39m]\n\u001b[1;32m      9\u001b[0m )\n\u001b[1;32m     11\u001b[0m ax\u001b[38;5;241m.\u001b[39mset_xlabel(\u001b[38;5;124m'\u001b[39m\u001b[38;5;124mTemperature (F)\u001b[39m\u001b[38;5;124m'\u001b[39m)\n\u001b[1;32m     12\u001b[0m ax\u001b[38;5;241m.\u001b[39mset_ylabel(\u001b[38;5;124m'\u001b[39m\u001b[38;5;124mCount (Days)\u001b[39m\u001b[38;5;124m'\u001b[39m)\n",
      "\u001b[0;31mNameError\u001b[0m: name 'stacked_arrays' is not defined"
     ]
    },
    {
     "data": {
      "image/png": "[encoded data removed]",
      "text/plain": [
       "<Figure size 432x288 with 1 Axes>"
      ]
     },
     "metadata": {
      "needs_background": "light"
     },
     "output_type": "display_data"
    }
   ],
   "source": [
    "f,ax = plt.subplots()\n",
    "\n",
    "ax.hist(\n",
    "    stacked_arrays,\n",
    "    bins = 15,\n",
    "    histtype = 'bar', \n",
    "    color = ['tab:red','tab:blue'], \n",
    "    label = ['Boulder','Broomfield']\n",
    ")\n",
    "\n",
    "ax.set_xlabel('Temperature (F)')\n",
    "ax.set_ylabel('Count (Days)')\n",
    "ax.set_title('Temperatures (2010-2021)',fontweight='heavy')\n",
    "ax.legend(prop={'size': 10})"
   ]
  },
  {
   "cell_type": "markdown",
   "id": "c14aab30",
   "metadata": {},
   "source": [
    "Option 3 is to stack the bars on top of each other. This is perceptually hard to compare to identify differences in many cases."
   ]
  },
  {
   "cell_type": "code",
   "execution_count": 48,
   "id": "e4c8d719",
   "metadata": {},
   "outputs": [
    {
     "ename": "NameError",
     "evalue": "name 'stacked_arrays' is not defined",
     "output_type": "error",
     "traceback": [
      "\u001b[0;31m---------------------------------------------------------------------------\u001b[0m",
      "\u001b[0;31mNameError\u001b[0m                                 Traceback (most recent call last)",
      "Input \u001b[0;32mIn [48]\u001b[0m, in \u001b[0;36m<cell line: 3>\u001b[0;34m()\u001b[0m\n\u001b[1;32m      1\u001b[0m f,ax \u001b[38;5;241m=\u001b[39m plt\u001b[38;5;241m.\u001b[39msubplots()\n\u001b[1;32m      3\u001b[0m ax\u001b[38;5;241m.\u001b[39mhist(\n\u001b[0;32m----> 4\u001b[0m     \u001b[43mstacked_arrays\u001b[49m,\n\u001b[1;32m      5\u001b[0m     bins \u001b[38;5;241m=\u001b[39m \u001b[38;5;241m15\u001b[39m,\n\u001b[1;32m      6\u001b[0m     histtype \u001b[38;5;241m=\u001b[39m \u001b[38;5;124m'\u001b[39m\u001b[38;5;124mbar\u001b[39m\u001b[38;5;124m'\u001b[39m, \n\u001b[1;32m      7\u001b[0m     stacked \u001b[38;5;241m=\u001b[39m \u001b[38;5;28;01mTrue\u001b[39;00m,\n\u001b[1;32m      8\u001b[0m     color \u001b[38;5;241m=\u001b[39m [\u001b[38;5;124m'\u001b[39m\u001b[38;5;124mtab:red\u001b[39m\u001b[38;5;124m'\u001b[39m,\u001b[38;5;124m'\u001b[39m\u001b[38;5;124mtab:blue\u001b[39m\u001b[38;5;124m'\u001b[39m], \n\u001b[1;32m      9\u001b[0m     label \u001b[38;5;241m=\u001b[39m [\u001b[38;5;124m'\u001b[39m\u001b[38;5;124mBoulder\u001b[39m\u001b[38;5;124m'\u001b[39m,\u001b[38;5;124m'\u001b[39m\u001b[38;5;124mBroomfield\u001b[39m\u001b[38;5;124m'\u001b[39m]\n\u001b[1;32m     10\u001b[0m )\n\u001b[1;32m     12\u001b[0m ax\u001b[38;5;241m.\u001b[39mset_xlabel(\u001b[38;5;124m'\u001b[39m\u001b[38;5;124mTemperature (F)\u001b[39m\u001b[38;5;124m'\u001b[39m)\n\u001b[1;32m     13\u001b[0m ax\u001b[38;5;241m.\u001b[39mset_ylabel(\u001b[38;5;124m'\u001b[39m\u001b[38;5;124mCount (Days)\u001b[39m\u001b[38;5;124m'\u001b[39m)\n",
      "\u001b[0;31mNameError\u001b[0m: name 'stacked_arrays' is not defined"
     ]
    },
    {
     "data": {
      "image/png": "[encoded data removed]",
      "text/plain": [
       "<Figure size 432x288 with 1 Axes>"
      ]
     },
     "metadata": {
      "needs_background": "light"
     },
     "output_type": "display_data"
    }
   ],
   "source": [
    "f,ax = plt.subplots()\n",
    "\n",
    "ax.hist(\n",
    "    stacked_arrays,\n",
    "    bins = 15,\n",
    "    histtype = 'bar', \n",
    "    stacked = True,\n",
    "    color = ['tab:red','tab:blue'], \n",
    "    label = ['Boulder','Broomfield']\n",
    ")\n",
    "\n",
    "ax.set_xlabel('Temperature (F)')\n",
    "ax.set_ylabel('Count (Days)')\n",
    "ax.set_title('Temperatures (2010-2021)',fontweight='heavy')\n",
    "ax.legend(prop={'size': 10})"
   ]
  },
  {
   "cell_type": "markdown",
   "id": "0e45068a",
   "metadata": {},
   "source": [
    "Plotting a cumulative histogram."
   ]
  },
  {
   "cell_type": "code",
   "execution_count": 62,
   "id": "07d12bd3",
   "metadata": {},
   "outputs": [
    {
     "data": {
      "text/plain": [
       "<matplotlib.legend.Legend at 0x169f7bd90>"
      ]
     },
     "execution_count": 62,
     "metadata": {},
     "output_type": "execute_result"
    },
    {
     "data": {
      "image/png": "[encoded data removed]",
      "text/plain": [
       "<Figure size 432x288 with 1 Axes>"
      ]
     },
     "metadata": {
      "needs_background": "light"
     },
     "output_type": "display_data"
    }
   ],
   "source": [
    "f,ax = plt.subplots()\n",
    "\n",
    "ax.hist(\n",
    "    stacked_arrays,\n",
    "    bins = 15,\n",
    "    histtype = 'bar', \n",
    "    cumulative = True,\n",
    "    color = ['tab:red','tab:blue'], \n",
    "    label = ['Boulder','Broomfield']\n",
    ")\n",
    "\n",
    "ax.set_xlabel('Temperature (F)')\n",
    "ax.set_ylabel('Count (Days, cuml.)')\n",
    "ax.set_title('Temperatures (2010-2021)',fontweight='heavy')\n",
    "ax.legend(prop={'size': 10})"
   ]
  },
  {
   "cell_type": "markdown",
   "id": "e744ca67",
   "metadata": {},
   "source": [
    "Making multiple plots with pandas."
   ]
  },
  {
   "cell_type": "code",
   "execution_count": 108,
   "id": "96ef8ca3",
   "metadata": {},
   "outputs": [
    {
     "data": {
      "text/html": [
       "<div>\n",
       "<style scoped>\n",
       "    .dataframe tbody tr th:only-of-type {\n",
       "        vertical-align: middle;\n",
       "    }\n",
       "\n",
       "    .dataframe tbody tr th {\n",
       "        vertical-align: top;\n",
       "    }\n",
       "\n",
       "    .dataframe thead th {\n",
       "        text-align: right;\n",
       "    }\n",
       "</style>\n",
       "<table border=\"1\" class=\"dataframe\">\n",
       "  <thead>\n",
       "    <tr style=\"text-align: right;\">\n",
       "      <th></th>\n",
       "      <th>Year</th>\n",
       "      <th>Month</th>\n",
       "      <th>County</th>\n",
       "      <th>Cases</th>\n",
       "      <th>Deaths</th>\n",
       "    </tr>\n",
       "  </thead>\n",
       "  <tbody>\n",
       "    <tr>\n",
       "      <th>0</th>\n",
       "      <td>2020</td>\n",
       "      <td>3</td>\n",
       "      <td>Adams</td>\n",
       "      <td>0.0</td>\n",
       "      <td>0.0</td>\n",
       "    </tr>\n",
       "    <tr>\n",
       "      <th>1</th>\n",
       "      <td>2020</td>\n",
       "      <td>3</td>\n",
       "      <td>Adams</td>\n",
       "      <td>0.0</td>\n",
       "      <td>0.0</td>\n",
       "    </tr>\n",
       "    <tr>\n",
       "      <th>2</th>\n",
       "      <td>2020</td>\n",
       "      <td>3</td>\n",
       "      <td>Adams</td>\n",
       "      <td>0.0</td>\n",
       "      <td>0.0</td>\n",
       "    </tr>\n",
       "    <tr>\n",
       "      <th>3</th>\n",
       "      <td>2020</td>\n",
       "      <td>3</td>\n",
       "      <td>Adams</td>\n",
       "      <td>0.0</td>\n",
       "      <td>0.0</td>\n",
       "    </tr>\n",
       "    <tr>\n",
       "      <th>4</th>\n",
       "      <td>2020</td>\n",
       "      <td>3</td>\n",
       "      <td>Adams</td>\n",
       "      <td>1.0</td>\n",
       "      <td>0.0</td>\n",
       "    </tr>\n",
       "  </tbody>\n",
       "</table>\n",
       "</div>"
      ],
      "text/plain": [
       "   Year  Month County  Cases  Deaths\n",
       "0  2020      3  Adams    0.0     0.0\n",
       "1  2020      3  Adams    0.0     0.0\n",
       "2  2020      3  Adams    0.0     0.0\n",
       "3  2020      3  Adams    0.0     0.0\n",
       "4  2020      3  Adams    1.0     0.0"
      ]
     },
     "execution_count": 108,
     "metadata": {},
     "output_type": "execute_result"
    }
   ],
   "source": [
    "co_covid_df.head()"
   ]
  },
  {
   "cell_type": "code",
   "execution_count": 111,
   "id": "d490d83b",
   "metadata": {},
   "outputs": [
    {
     "data": {
      "text/plain": [
       "array(['Adams', 'Alamosa', 'Arapahoe', 'Archuleta', 'Baca', 'Bent',\n",
       "       'Boulder', 'Broomfield', 'Chaffee', 'Cheyenne', 'Clear Creek',\n",
       "       'Conejos', 'Costilla', 'Crowley', 'Custer', 'Delta', 'Denver',\n",
       "       'Dolores', 'Douglas', 'Eagle', 'El Paso', 'Elbert', 'Fremont',\n",
       "       'Garfield', 'Gilpin', 'Grand', 'Gunnison', 'Hinsdale', 'Huerfano',\n",
       "       'Jackson', 'Jefferson', 'Kiowa', 'Kit Carson', 'La Plata', 'Lake',\n",
       "       'Larimer', 'Las Animas', 'Lincoln', 'Logan', 'Mesa', 'Mineral',\n",
       "       'Moffat', 'Montezuma', 'Montrose', 'Morgan', 'Otero', 'Ouray',\n",
       "       'Park', 'Phillips', 'Pitkin', 'Prowers', 'Pueblo', 'Rio Blanco',\n",
       "       'Rio Grande', 'Routt', 'Saguache', 'San Juan', 'San Miguel',\n",
       "       'Sedgwick', 'Summit', 'Teller', 'Unknown', 'Washington', 'Weld',\n",
       "       'Yuma'], dtype=object)"
      ]
     },
     "execution_count": 111,
     "metadata": {},
     "output_type": "execute_result"
    }
   ],
   "source": [
    "co_covid_df['County'].unique()"
   ]
  },
  {
   "cell_type": "code",
   "execution_count": 112,
   "id": "297c7fc2",
   "metadata": {},
   "outputs": [
    {
     "data": {
      "text/plain": [
       "65"
      ]
     },
     "execution_count": 112,
     "metadata": {},
     "output_type": "execute_result"
    }
   ],
   "source": [
    "13*5"
   ]
  },
  {
   "cell_type": "code",
   "execution_count": 117,
   "id": "1785cd1c",
   "metadata": {},
   "outputs": [
    {
     "data": {
      "text/plain": [
       "(13, 5)"
      ]
     },
     "execution_count": 117,
     "metadata": {},
     "output_type": "execute_result"
    }
   ],
   "source": [
    "axs.shape"
   ]
  },
  {
   "cell_type": "code",
   "execution_count": 118,
   "id": "360560cc",
   "metadata": {},
   "outputs": [
    {
     "data": {
      "text/html": [
       "<div>\n",
       "<style scoped>\n",
       "    .dataframe tbody tr th:only-of-type {\n",
       "        vertical-align: middle;\n",
       "    }\n",
       "\n",
       "    .dataframe tbody tr th {\n",
       "        vertical-align: top;\n",
       "    }\n",
       "\n",
       "    .dataframe thead th {\n",
       "        text-align: right;\n",
       "    }\n",
       "</style>\n",
       "<table border=\"1\" class=\"dataframe\">\n",
       "  <thead>\n",
       "    <tr style=\"text-align: right;\">\n",
       "      <th></th>\n",
       "      <th>Year</th>\n",
       "      <th>Month</th>\n",
       "      <th>County</th>\n",
       "      <th>Cases</th>\n",
       "      <th>Deaths</th>\n",
       "    </tr>\n",
       "  </thead>\n",
       "  <tbody>\n",
       "    <tr>\n",
       "      <th>0</th>\n",
       "      <td>2020</td>\n",
       "      <td>3</td>\n",
       "      <td>Adams</td>\n",
       "      <td>0.0</td>\n",
       "      <td>0.0</td>\n",
       "    </tr>\n",
       "    <tr>\n",
       "      <th>1</th>\n",
       "      <td>2020</td>\n",
       "      <td>3</td>\n",
       "      <td>Adams</td>\n",
       "      <td>0.0</td>\n",
       "      <td>0.0</td>\n",
       "    </tr>\n",
       "    <tr>\n",
       "      <th>2</th>\n",
       "      <td>2020</td>\n",
       "      <td>3</td>\n",
       "      <td>Adams</td>\n",
       "      <td>0.0</td>\n",
       "      <td>0.0</td>\n",
       "    </tr>\n",
       "    <tr>\n",
       "      <th>3</th>\n",
       "      <td>2020</td>\n",
       "      <td>3</td>\n",
       "      <td>Adams</td>\n",
       "      <td>0.0</td>\n",
       "      <td>0.0</td>\n",
       "    </tr>\n",
       "    <tr>\n",
       "      <th>4</th>\n",
       "      <td>2020</td>\n",
       "      <td>3</td>\n",
       "      <td>Adams</td>\n",
       "      <td>1.0</td>\n",
       "      <td>0.0</td>\n",
       "    </tr>\n",
       "  </tbody>\n",
       "</table>\n",
       "</div>"
      ],
      "text/plain": [
       "   Year  Month County  Cases  Deaths\n",
       "0  2020      3  Adams    0.0     0.0\n",
       "1  2020      3  Adams    0.0     0.0\n",
       "2  2020      3  Adams    0.0     0.0\n",
       "3  2020      3  Adams    0.0     0.0\n",
       "4  2020      3  Adams    1.0     0.0"
      ]
     },
     "execution_count": 118,
     "metadata": {},
     "output_type": "execute_result"
    }
   ],
   "source": [
    "co_covid_df.head()"
   ]
  },
  {
   "cell_type": "code",
   "execution_count": 128,
   "id": "94f0f70a",
   "metadata": {},
   "outputs": [
    {
     "data": {
      "image/png": "[encoded data removed]",
      "text/plain": [
       "<Figure size 720x1440 with 65 Axes>"
      ]
     },
     "metadata": {
      "needs_background": "light"
     },
     "output_type": "display_data"
    }
   ],
   "source": [
    "f,axs = plt.subplots(nrows=13,ncols=5,figsize=(10,20))\n",
    "\n",
    "co_covid_df.plot.hist(\n",
    "    column='Cases',\n",
    "    by=['County'],\n",
    "    ax=axs,\n",
    "    legend=False,\n",
    "#     bins=np.geomspace(1,5000,10)\n",
    ");\n",
    "\n",
    "f.tight_layout()"
   ]
  },
  {
   "cell_type": "code",
   "execution_count": 63,
   "id": "ef86cd6f",
   "metadata": {},
   "outputs": [
    {
     "data": {
      "text/plain": [
       "<AxesSubplot:>"
      ]
     },
     "execution_count": 63,
     "metadata": {},
     "output_type": "execute_result"
    },
    {
     "data": {
      "image/png": "[encoded data removed]",
      "text/plain": [
       "<Figure size 432x288 with 1 Axes>"
      ]
     },
     "metadata": {
      "needs_background": "light"
     },
     "output_type": "display_data"
    }
   ],
   "source": [
    "both_df['TEMP_BOULDER'].hist()"
   ]
  },
  {
   "cell_type": "markdown",
   "id": "8ca1a120",
   "metadata": {},
   "source": [
    "You could also call `.hist()` on a DataFrame and get a histogram for each."
   ]
  },
  {
   "cell_type": "code",
   "execution_count": 64,
   "id": "22069ba3",
   "metadata": {},
   "outputs": [
    {
     "data": {
      "text/plain": [
       "array([[<AxesSubplot:title={'center':'TEMP_BOULDER'}>,\n",
       "        <AxesSubplot:title={'center':'TEMP_BROOMFIELD'}>]], dtype=object)"
      ]
     },
     "execution_count": 64,
     "metadata": {},
     "output_type": "execute_result"
    },
    {
     "data": {
      "image/png": "[encoded data removed]",
      "text/plain": [
       "<Figure size 432x288 with 2 Axes>"
      ]
     },
     "metadata": {
      "needs_background": "light"
     },
     "output_type": "display_data"
    }
   ],
   "source": [
    "both_df[['TEMP_BOULDER','TEMP_BROOMFIELD']].hist()"
   ]
  },
  {
   "cell_type": "markdown",
   "id": "f53c80c2",
   "metadata": {},
   "source": [
    "The `.plot.hist()` method is distinct and will draw stacked, cumulative, horizontal and others."
   ]
  },
  {
   "cell_type": "code",
   "execution_count": 65,
   "id": "dc8ca5c0",
   "metadata": {},
   "outputs": [
    {
     "data": {
      "text/plain": [
       "<AxesSubplot:ylabel='Frequency'>"
      ]
     },
     "execution_count": 65,
     "metadata": {},
     "output_type": "execute_result"
    },
    {
     "data": {
      "image/png": "[encoded data removed]",
      "text/plain": [
       "<Figure size 432x288 with 1 Axes>"
      ]
     },
     "metadata": {
      "needs_background": "light"
     },
     "output_type": "display_data"
    }
   ],
   "source": [
    "both_df[['TEMP_BOULDER','TEMP_BROOMFIELD']].plot.hist()"
   ]
  },
  {
   "cell_type": "code",
   "execution_count": 66,
   "id": "5acd6e45",
   "metadata": {},
   "outputs": [
    {
     "data": {
      "text/plain": [
       "<AxesSubplot:ylabel='Frequency'>"
      ]
     },
     "execution_count": 66,
     "metadata": {},
     "output_type": "execute_result"
    },
    {
     "data": {
      "image/png": "[encoded data removed]",
      "text/plain": [
       "<Figure size 432x288 with 1 Axes>"
      ]
     },
     "metadata": {
      "needs_background": "light"
     },
     "output_type": "display_data"
    }
   ],
   "source": [
    "both_df[['TEMP_BOULDER','TEMP_BROOMFIELD']].plot.hist(stacked=True)"
   ]
  },
  {
   "cell_type": "code",
   "execution_count": 67,
   "id": "345185d6",
   "metadata": {},
   "outputs": [
    {
     "data": {
      "text/plain": [
       "<AxesSubplot:xlabel='Frequency'>"
      ]
     },
     "execution_count": 67,
     "metadata": {},
     "output_type": "execute_result"
    },
    {
     "data": {
      "image/png": "[encoded data removed]",
      "text/plain": [
       "<Figure size 432x288 with 1 Axes>"
      ]
     },
     "metadata": {
      "needs_background": "light"
     },
     "output_type": "display_data"
    }
   ],
   "source": [
    "both_df[['TEMP_BOULDER','TEMP_BROOMFIELD']].plot.hist(orientation='horizontal')"
   ]
  },
  {
   "cell_type": "code",
   "execution_count": 68,
   "id": "2ca4ea65",
   "metadata": {},
   "outputs": [
    {
     "data": {
      "text/plain": [
       "<AxesSubplot:xlabel='Frequency'>"
      ]
     },
     "execution_count": 68,
     "metadata": {},
     "output_type": "execute_result"
    },
    {
     "data": {
      "image/png": "[encoded data removed]",
      "text/plain": [
       "<Figure size 576x288 with 2 Axes>"
      ]
     },
     "metadata": {
      "needs_background": "light"
     },
     "output_type": "display_data"
    }
   ],
   "source": [
    "f,(ax0,ax1) = plt.subplots(ncols=2,figsize=(8,4))\n",
    "\n",
    "both_df[['TEMP_BOULDER','TEMP_BROOMFIELD']].plot.hist(stacked=True,ax=ax0,legend=False)\n",
    "both_df[['TEMP_BOULDER','TEMP_BROOMFIELD']].plot.hist(orientation='horizontal',ax=ax1)"
   ]
  },
  {
   "cell_type": "code",
   "execution_count": 135,
   "id": "cf7dc822",
   "metadata": {},
   "outputs": [
    {
     "data": {
      "text/html": [
       "<div>\n",
       "<style scoped>\n",
       "    .dataframe tbody tr th:only-of-type {\n",
       "        vertical-align: middle;\n",
       "    }\n",
       "\n",
       "    .dataframe tbody tr th {\n",
       "        vertical-align: top;\n",
       "    }\n",
       "\n",
       "    .dataframe thead th {\n",
       "        text-align: right;\n",
       "    }\n",
       "</style>\n",
       "<table border=\"1\" class=\"dataframe\">\n",
       "  <thead>\n",
       "    <tr style=\"text-align: right;\">\n",
       "      <th></th>\n",
       "      <th>Year</th>\n",
       "      <th>Month</th>\n",
       "      <th>County</th>\n",
       "      <th>Cases</th>\n",
       "      <th>Deaths</th>\n",
       "    </tr>\n",
       "  </thead>\n",
       "  <tbody>\n",
       "    <tr>\n",
       "      <th>30</th>\n",
       "      <td>2020</td>\n",
       "      <td>3</td>\n",
       "      <td>Adams</td>\n",
       "      <td>32.0</td>\n",
       "      <td>2.0</td>\n",
       "    </tr>\n",
       "    <tr>\n",
       "      <th>31</th>\n",
       "      <td>2020</td>\n",
       "      <td>4</td>\n",
       "      <td>Adams</td>\n",
       "      <td>29.0</td>\n",
       "      <td>4.0</td>\n",
       "    </tr>\n",
       "  </tbody>\n",
       "</table>\n",
       "</div>"
      ],
      "text/plain": [
       "    Year  Month County  Cases  Deaths\n",
       "30  2020      3  Adams   32.0     2.0\n",
       "31  2020      4  Adams   29.0     4.0"
      ]
     },
     "execution_count": 135,
     "metadata": {},
     "output_type": "execute_result"
    }
   ],
   "source": [
    "no_neg_deaths.head(2)"
   ]
  },
  {
   "cell_type": "code",
   "execution_count": 139,
   "id": "16d7b0a0",
   "metadata": {},
   "outputs": [
    {
     "data": {
      "text/plain": [
       "<AxesSubplot:ylabel='Frequency'>"
      ]
     },
     "execution_count": 139,
     "metadata": {},
     "output_type": "execute_result"
    },
    {
     "data": {
      "image/png": "[encoded data removed]",
      "text/plain": [
       "<Figure size 432x288 with 2 Axes>"
      ]
     },
     "metadata": {
      "needs_background": "light"
     },
     "output_type": "display_data"
    }
   ],
   "source": [
    "f,(ax0,ax1) = plt.subplots(1,2)\n",
    "\n",
    "no_neg_deaths['Cases'].plot.hist(ax=ax0)\n",
    "no_neg_deaths['Deaths'].plot.hist(ax=ax1)\n",
    "\n",
    "# ax0.set_xscale('log')\n",
    "# ax1.set_xscale('log')"
   ]
  },
  {
   "cell_type": "code",
   "execution_count": 141,
   "id": "f92c5e33",
   "metadata": {},
   "outputs": [
    {
     "data": {
      "image/png": "[encoded data removed]",
      "text/plain": [
       "<Figure size 432x288 with 2 Axes>"
      ]
     },
     "metadata": {
      "needs_background": "light"
     },
     "output_type": "display_data"
    }
   ],
   "source": [
    "f,(ax0,ax1) = plt.subplots(1,2)\n",
    "\n",
    "no_neg_deaths['Cases'].plot.hist(ax=ax0,bins=np.geomspace(1,10000,10))\n",
    "boulder_df['TEMP'].plot.hist(ax=ax1)\n",
    "\n",
    "ax0.set_xscale('log')\n",
    "# ax1.set_xscale('log')"
   ]
  },
  {
   "cell_type": "code",
   "execution_count": 69,
   "id": "841f63a8",
   "metadata": {},
   "outputs": [
    {
     "data": {
      "text/plain": [
       "<matplotlib.colorbar.Colorbar at 0x1699c2fd0>"
      ]
     },
     "execution_count": 69,
     "metadata": {},
     "output_type": "execute_result"
    },
    {
     "data": {
      "image/png": "[encoded data removed]",
      "text/plain": [
       "<Figure size 504x432 with 2 Axes>"
      ]
     },
     "metadata": {
      "needs_background": "light"
     },
     "output_type": "display_data"
    }
   ],
   "source": [
    "f,ax = plt.subplots(figsize=(7,6))\n",
    "\n",
    "counts, xedges, yedges, im = ax.hist2d(\n",
    "    x = boulder_temps,\n",
    "    y = broomfield_temps,\n",
    "    bins = 25\n",
    ")\n",
    "\n",
    "ax.set_xlabel('Temperatures in Boulder (F)')\n",
    "ax.set_ylabel('Temperatures in Broomfield (F)')\n",
    "f.colorbar(im,ax=ax)"
   ]
  },
  {
   "cell_type": "code",
   "execution_count": null,
   "id": "a1276594",
   "metadata": {},
   "outputs": [],
   "source": []
  }
 ],
 "metadata": {
  "kernelspec": {
   "display_name": "Python 3 (ipykernel)",
   "language": "python",
   "name": "python3"
  },
  "language_info": {
   "codemirror_mode": {
    "name": "ipython",
    "version": 3
   },
   "file_extension": ".py",
   "mimetype": "text/x-python",
   "name": "python",
   "nbconvert_exporter": "python",
   "pygments_lexer": "ipython3",
   "version": "3.8.13"
  }
 },
 "nbformat": 4,
 "nbformat_minor": 5
}
